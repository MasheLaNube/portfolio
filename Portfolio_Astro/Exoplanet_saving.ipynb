{
 "cells": [
  {
   "cell_type": "code",
   "execution_count": 1,
   "id": "c176a3b4",
   "metadata": {},
   "outputs": [],
   "source": [
    "from exo_log.exoplanet_log import ExoplanetLog"
   ]
  },
  {
   "cell_type": "code",
   "execution_count": 2,
   "id": "51c37106",
   "metadata": {},
   "outputs": [
    {
     "name": "stdout",
     "output_type": "stream",
     "text": [
      "Folder and files for TOI-122b created successfully.\n"
     ]
    }
   ],
   "source": [
    "log= ExoplanetLog()\n",
    "name= 'TOI-122b'\n",
    "log.add_exoplanet(name)"
   ]
  },
  {
   "cell_type": "code",
   "execution_count": 3,
   "id": "bede6d53",
   "metadata": {},
   "outputs": [
    {
     "name": "stdout",
     "output_type": "stream",
     "text": [
      "Insert the data from the lightcurve:\n",
      "Lightcurve saved.\n"
     ]
    }
   ],
   "source": [
    "log.add_lc_data()\n"
   ]
  },
  {
   "cell_type": "code",
   "execution_count": 4,
   "id": "24f3e022",
   "metadata": {},
   "outputs": [
    {
     "name": "stdout",
     "output_type": "stream",
     "text": [
      "Enter stellar parameters (If not found, just press space buttom): \n",
      "Stellar parameters added successfully.\n"
     ]
    }
   ],
   "source": [
    "log.add_stellar_params()"
   ]
  },
  {
   "cell_type": "code",
   "execution_count": 3,
   "id": "62d275e5",
   "metadata": {},
   "outputs": [
    {
     "name": "stdout",
     "output_type": "stream",
     "text": [
      "Insert the links from your references (Leave blank to finish):\n",
      "References saved.\n"
     ]
    }
   ],
   "source": [
    "log.log_ref()"
   ]
  },
  {
   "cell_type": "code",
   "execution_count": null,
   "id": "36bc913b",
   "metadata": {},
   "outputs": [],
   "source": []
  }
 ],
 "metadata": {
  "kernelspec": {
   "display_name": "base",
   "language": "python",
   "name": "python3"
  },
  "language_info": {
   "codemirror_mode": {
    "name": "ipython",
    "version": 3
   },
   "file_extension": ".py",
   "mimetype": "text/x-python",
   "name": "python",
   "nbconvert_exporter": "python",
   "pygments_lexer": "ipython3",
   "version": "3.12.7"
  }
 },
 "nbformat": 4,
 "nbformat_minor": 5
}
